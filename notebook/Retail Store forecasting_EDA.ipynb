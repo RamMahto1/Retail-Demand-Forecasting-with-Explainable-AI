{
 "cells": [
  {
   "cell_type": "markdown",
   "id": "e06312f1-b757-4040-947e-d0379f77a9bc",
   "metadata": {},
   "source": [
    "## retail store inventory EDA"
   ]
  },
  {
   "cell_type": "code",
   "execution_count": 1,
   "id": "dc4e81be-6272-49a0-b613-aa1a96188b2e",
   "metadata": {},
   "outputs": [],
   "source": [
    "## Importing libary"
   ]
  },
  {
   "cell_type": "markdown",
   "id": "b1d7edcf-4244-44fb-b927-f5fad96872d0",
   "metadata": {},
   "source": [
    "# 1. Problem Statement"
   ]
  },
  {
   "cell_type": "markdown",
   "id": "dfdbda66-3504-46ca-8e9a-2d6e621077bf",
   "metadata": {},
   "source": [
    "- Goal: Predict `Units_Sold` (target)\n",
    "- Inputs: Price, Discount, Weather, Holiday_Promotion, Competitor_Pricing, Seasonality, etc.\n",
    "- Type: Regression / Forecasting problem\n"
   ]
  },
  {
   "cell_type": "markdown",
   "id": "cfd7ca80-58e9-4ead-a56c-2d4307ce625c",
   "metadata": {},
   "source": [
    "# 2. Import Libraries"
   ]
  },
  {
   "cell_type": "code",
   "execution_count": 2,
   "id": "38e1da6b-f471-4403-afdd-842b8960bae6",
   "metadata": {},
   "outputs": [],
   "source": [
    "import pandas as pd\n",
    "import numpy as np\n",
    "import seaborn as sns\n",
    "from matplotlib import pyplot as plt"
   ]
  },
  {
   "cell_type": "markdown",
   "id": "d4354c96-0d33-46c3-8542-53932a68243a",
   "metadata": {},
   "source": [
    "# 3. Load Dataset"
   ]
  },
  {
   "cell_type": "code",
   "execution_count": 3,
   "id": "858e1af3-9821-4cf9-96c4-e0b00c4cbb67",
   "metadata": {},
   "outputs": [],
   "source": [
    "df = pd.read_csv(\"retail_store_project.csv\")"
   ]
  },
  {
   "cell_type": "code",
   "execution_count": 4,
   "id": "4d4a2bbd-7a70-4573-bb13-00341d4cdf09",
   "metadata": {},
   "outputs": [],
   "source": [
    "##df=df.dropna()"
   ]
  },
  {
   "cell_type": "markdown",
   "id": "5733f46f-eadb-4ee3-8950-fe1278a997d1",
   "metadata": {
    "scrolled": true
   },
   "source": [
    "## 3 : 1 - top 5 record"
   ]
  },
  {
   "cell_type": "code",
   "execution_count": 5,
   "id": "37c4dbb9-0d3f-4521-82ef-55601a54cc20",
   "metadata": {},
   "outputs": [
    {
     "data": {
      "text/html": [
       "<div>\n",
       "<style scoped>\n",
       "    .dataframe tbody tr th:only-of-type {\n",
       "        vertical-align: middle;\n",
       "    }\n",
       "\n",
       "    .dataframe tbody tr th {\n",
       "        vertical-align: top;\n",
       "    }\n",
       "\n",
       "    .dataframe thead th {\n",
       "        text-align: right;\n",
       "    }\n",
       "</style>\n",
       "<table border=\"1\" class=\"dataframe\">\n",
       "  <thead>\n",
       "    <tr style=\"text-align: right;\">\n",
       "      <th></th>\n",
       "      <th>Date</th>\n",
       "      <th>Store ID</th>\n",
       "      <th>Product ID</th>\n",
       "      <th>Category</th>\n",
       "      <th>Region</th>\n",
       "      <th>Inventory Level</th>\n",
       "      <th>Units_Sold</th>\n",
       "      <th>Units_Ordered</th>\n",
       "      <th>Demand_Forecast</th>\n",
       "      <th>Price</th>\n",
       "      <th>Discount</th>\n",
       "      <th>Weather_Condition</th>\n",
       "      <th>Holiday_Promotion</th>\n",
       "      <th>Competitor_Pricing</th>\n",
       "      <th>Seasonality</th>\n",
       "    </tr>\n",
       "  </thead>\n",
       "  <tbody>\n",
       "    <tr>\n",
       "      <th>0</th>\n",
       "      <td>01/01/2022</td>\n",
       "      <td>S001</td>\n",
       "      <td>P0001</td>\n",
       "      <td>Groceries</td>\n",
       "      <td>North</td>\n",
       "      <td>231.0</td>\n",
       "      <td>127.0</td>\n",
       "      <td>55.0</td>\n",
       "      <td>135.47</td>\n",
       "      <td>33.50</td>\n",
       "      <td>20.0</td>\n",
       "      <td>Rainy</td>\n",
       "      <td>0.0</td>\n",
       "      <td>29.69</td>\n",
       "      <td>Autumn</td>\n",
       "    </tr>\n",
       "    <tr>\n",
       "      <th>1</th>\n",
       "      <td>01/01/2022</td>\n",
       "      <td>S001</td>\n",
       "      <td>P0002</td>\n",
       "      <td>Toys</td>\n",
       "      <td>South</td>\n",
       "      <td>204.0</td>\n",
       "      <td>150.0</td>\n",
       "      <td>66.0</td>\n",
       "      <td>144.04</td>\n",
       "      <td>63.01</td>\n",
       "      <td>20.0</td>\n",
       "      <td>Sunny</td>\n",
       "      <td>0.0</td>\n",
       "      <td>66.16</td>\n",
       "      <td>Autumn</td>\n",
       "    </tr>\n",
       "    <tr>\n",
       "      <th>2</th>\n",
       "      <td>01/01/2022</td>\n",
       "      <td>S001</td>\n",
       "      <td>P0003</td>\n",
       "      <td>Toys</td>\n",
       "      <td>West</td>\n",
       "      <td>102.0</td>\n",
       "      <td>65.0</td>\n",
       "      <td>51.0</td>\n",
       "      <td>74.02</td>\n",
       "      <td>27.99</td>\n",
       "      <td>10.0</td>\n",
       "      <td>Sunny</td>\n",
       "      <td>1.0</td>\n",
       "      <td>31.32</td>\n",
       "      <td>Summer</td>\n",
       "    </tr>\n",
       "    <tr>\n",
       "      <th>3</th>\n",
       "      <td>01/01/2022</td>\n",
       "      <td>S001</td>\n",
       "      <td>P0004</td>\n",
       "      <td>Toys</td>\n",
       "      <td>North</td>\n",
       "      <td>469.0</td>\n",
       "      <td>61.0</td>\n",
       "      <td>164.0</td>\n",
       "      <td>62.18</td>\n",
       "      <td>32.72</td>\n",
       "      <td>10.0</td>\n",
       "      <td>Cloudy</td>\n",
       "      <td>1.0</td>\n",
       "      <td>34.74</td>\n",
       "      <td>Autumn</td>\n",
       "    </tr>\n",
       "    <tr>\n",
       "      <th>4</th>\n",
       "      <td>01/01/2022</td>\n",
       "      <td>S001</td>\n",
       "      <td>P0005</td>\n",
       "      <td>Electronics</td>\n",
       "      <td>East</td>\n",
       "      <td>166.0</td>\n",
       "      <td>14.0</td>\n",
       "      <td>135.0</td>\n",
       "      <td>9.26</td>\n",
       "      <td>73.64</td>\n",
       "      <td>0.0</td>\n",
       "      <td>Sunny</td>\n",
       "      <td>0.0</td>\n",
       "      <td>68.95</td>\n",
       "      <td>Summer</td>\n",
       "    </tr>\n",
       "  </tbody>\n",
       "</table>\n",
       "</div>"
      ],
      "text/plain": [
       "         Date Store ID Product ID     Category Region  Inventory Level  \\\n",
       "0  01/01/2022     S001      P0001    Groceries  North            231.0   \n",
       "1  01/01/2022     S001      P0002         Toys  South            204.0   \n",
       "2  01/01/2022     S001      P0003         Toys   West            102.0   \n",
       "3  01/01/2022     S001      P0004         Toys  North            469.0   \n",
       "4  01/01/2022     S001      P0005  Electronics   East            166.0   \n",
       "\n",
       "   Units_Sold  Units_Ordered  Demand_Forecast  Price  Discount  \\\n",
       "0       127.0           55.0           135.47  33.50      20.0   \n",
       "1       150.0           66.0           144.04  63.01      20.0   \n",
       "2        65.0           51.0            74.02  27.99      10.0   \n",
       "3        61.0          164.0            62.18  32.72      10.0   \n",
       "4        14.0          135.0             9.26  73.64       0.0   \n",
       "\n",
       "  Weather_Condition  Holiday_Promotion  Competitor_Pricing Seasonality  \n",
       "0             Rainy                0.0               29.69      Autumn  \n",
       "1             Sunny                0.0               66.16      Autumn  \n",
       "2             Sunny                1.0               31.32      Summer  \n",
       "3            Cloudy                1.0               34.74      Autumn  \n",
       "4             Sunny                0.0               68.95      Summer  "
      ]
     },
     "execution_count": 5,
     "metadata": {},
     "output_type": "execute_result"
    }
   ],
   "source": [
    "df.head()"
   ]
  },
  {
   "cell_type": "markdown",
   "id": "71ecd053-d8d2-474a-8151-f2f8169f63f5",
   "metadata": {},
   "source": [
    "## 3 : 2 - Bottom 5 record "
   ]
  },
  {
   "cell_type": "code",
   "execution_count": 6,
   "id": "bc7c3073-d210-4a5a-8320-3057e3578cf6",
   "metadata": {},
   "outputs": [
    {
     "data": {
      "text/html": [
       "<div>\n",
       "<style scoped>\n",
       "    .dataframe tbody tr th:only-of-type {\n",
       "        vertical-align: middle;\n",
       "    }\n",
       "\n",
       "    .dataframe tbody tr th {\n",
       "        vertical-align: top;\n",
       "    }\n",
       "\n",
       "    .dataframe thead th {\n",
       "        text-align: right;\n",
       "    }\n",
       "</style>\n",
       "<table border=\"1\" class=\"dataframe\">\n",
       "  <thead>\n",
       "    <tr style=\"text-align: right;\">\n",
       "      <th></th>\n",
       "      <th>Date</th>\n",
       "      <th>Store ID</th>\n",
       "      <th>Product ID</th>\n",
       "      <th>Category</th>\n",
       "      <th>Region</th>\n",
       "      <th>Inventory Level</th>\n",
       "      <th>Units_Sold</th>\n",
       "      <th>Units_Ordered</th>\n",
       "      <th>Demand_Forecast</th>\n",
       "      <th>Price</th>\n",
       "      <th>Discount</th>\n",
       "      <th>Weather_Condition</th>\n",
       "      <th>Holiday_Promotion</th>\n",
       "      <th>Competitor_Pricing</th>\n",
       "      <th>Seasonality</th>\n",
       "    </tr>\n",
       "  </thead>\n",
       "  <tbody>\n",
       "    <tr>\n",
       "      <th>1495</th>\n",
       "      <td>NaN</td>\n",
       "      <td>NaN</td>\n",
       "      <td>NaN</td>\n",
       "      <td>NaN</td>\n",
       "      <td>NaN</td>\n",
       "      <td>NaN</td>\n",
       "      <td>NaN</td>\n",
       "      <td>NaN</td>\n",
       "      <td>NaN</td>\n",
       "      <td>NaN</td>\n",
       "      <td>NaN</td>\n",
       "      <td>NaN</td>\n",
       "      <td>NaN</td>\n",
       "      <td>NaN</td>\n",
       "      <td>NaN</td>\n",
       "    </tr>\n",
       "    <tr>\n",
       "      <th>1496</th>\n",
       "      <td>NaN</td>\n",
       "      <td>NaN</td>\n",
       "      <td>NaN</td>\n",
       "      <td>NaN</td>\n",
       "      <td>NaN</td>\n",
       "      <td>NaN</td>\n",
       "      <td>NaN</td>\n",
       "      <td>NaN</td>\n",
       "      <td>NaN</td>\n",
       "      <td>NaN</td>\n",
       "      <td>NaN</td>\n",
       "      <td>NaN</td>\n",
       "      <td>NaN</td>\n",
       "      <td>NaN</td>\n",
       "      <td>NaN</td>\n",
       "    </tr>\n",
       "    <tr>\n",
       "      <th>1497</th>\n",
       "      <td>NaN</td>\n",
       "      <td>NaN</td>\n",
       "      <td>NaN</td>\n",
       "      <td>NaN</td>\n",
       "      <td>NaN</td>\n",
       "      <td>NaN</td>\n",
       "      <td>NaN</td>\n",
       "      <td>NaN</td>\n",
       "      <td>NaN</td>\n",
       "      <td>NaN</td>\n",
       "      <td>NaN</td>\n",
       "      <td>NaN</td>\n",
       "      <td>NaN</td>\n",
       "      <td>NaN</td>\n",
       "      <td>NaN</td>\n",
       "    </tr>\n",
       "    <tr>\n",
       "      <th>1498</th>\n",
       "      <td>NaN</td>\n",
       "      <td>NaN</td>\n",
       "      <td>NaN</td>\n",
       "      <td>NaN</td>\n",
       "      <td>NaN</td>\n",
       "      <td>NaN</td>\n",
       "      <td>NaN</td>\n",
       "      <td>NaN</td>\n",
       "      <td>NaN</td>\n",
       "      <td>NaN</td>\n",
       "      <td>NaN</td>\n",
       "      <td>NaN</td>\n",
       "      <td>NaN</td>\n",
       "      <td>NaN</td>\n",
       "      <td>NaN</td>\n",
       "    </tr>\n",
       "    <tr>\n",
       "      <th>1499</th>\n",
       "      <td>NaN</td>\n",
       "      <td>NaN</td>\n",
       "      <td>NaN</td>\n",
       "      <td>NaN</td>\n",
       "      <td>NaN</td>\n",
       "      <td>NaN</td>\n",
       "      <td>NaN</td>\n",
       "      <td>NaN</td>\n",
       "      <td>NaN</td>\n",
       "      <td>NaN</td>\n",
       "      <td>NaN</td>\n",
       "      <td>NaN</td>\n",
       "      <td>NaN</td>\n",
       "      <td>NaN</td>\n",
       "      <td>NaN</td>\n",
       "    </tr>\n",
       "  </tbody>\n",
       "</table>\n",
       "</div>"
      ],
      "text/plain": [
       "     Date Store ID Product ID Category Region  Inventory Level  Units_Sold  \\\n",
       "1495  NaN      NaN        NaN      NaN    NaN              NaN         NaN   \n",
       "1496  NaN      NaN        NaN      NaN    NaN              NaN         NaN   \n",
       "1497  NaN      NaN        NaN      NaN    NaN              NaN         NaN   \n",
       "1498  NaN      NaN        NaN      NaN    NaN              NaN         NaN   \n",
       "1499  NaN      NaN        NaN      NaN    NaN              NaN         NaN   \n",
       "\n",
       "      Units_Ordered  Demand_Forecast  Price  Discount Weather_Condition  \\\n",
       "1495            NaN              NaN    NaN       NaN               NaN   \n",
       "1496            NaN              NaN    NaN       NaN               NaN   \n",
       "1497            NaN              NaN    NaN       NaN               NaN   \n",
       "1498            NaN              NaN    NaN       NaN               NaN   \n",
       "1499            NaN              NaN    NaN       NaN               NaN   \n",
       "\n",
       "      Holiday_Promotion  Competitor_Pricing Seasonality  \n",
       "1495                NaN                 NaN         NaN  \n",
       "1496                NaN                 NaN         NaN  \n",
       "1497                NaN                 NaN         NaN  \n",
       "1498                NaN                 NaN         NaN  \n",
       "1499                NaN                 NaN         NaN  "
      ]
     },
     "execution_count": 6,
     "metadata": {},
     "output_type": "execute_result"
    }
   ],
   "source": [
    "df.tail()"
   ]
  },
  {
   "cell_type": "code",
   "execution_count": 7,
   "id": "9a623971-c5e4-4b68-ab1b-8fe29555f3fc",
   "metadata": {},
   "outputs": [],
   "source": [
    "### 3 : 3 -  checking shape of data"
   ]
  },
  {
   "cell_type": "code",
   "execution_count": 8,
   "id": "596a816f-339b-4d54-9e4a-482539a9b526",
   "metadata": {},
   "outputs": [
    {
     "data": {
      "text/plain": [
       "(1500, 15)"
      ]
     },
     "execution_count": 8,
     "metadata": {},
     "output_type": "execute_result"
    }
   ],
   "source": [
    "df.shape"
   ]
  },
  {
   "cell_type": "code",
   "execution_count": 9,
   "id": "ab5fef71-d0d2-449d-9d0f-9729375960c9",
   "metadata": {},
   "outputs": [],
   "source": [
    "#### there total 15 columns and 1500 row"
   ]
  },
  {
   "cell_type": "code",
   "execution_count": 10,
   "id": "203f13ef-cb7a-4e41-bf04-d1c1f29a9f01",
   "metadata": {},
   "outputs": [],
   "source": [
    "## 4 Basic information"
   ]
  },
  {
   "cell_type": "code",
   "execution_count": 11,
   "id": "6808b584-3edf-481b-8e1f-68d13952998a",
   "metadata": {},
   "outputs": [],
   "source": [
    "### 4 : 1 - Data information"
   ]
  },
  {
   "cell_type": "code",
   "execution_count": 12,
   "id": "c4a7ea05-42ad-4268-9c9b-82e67b320ca8",
   "metadata": {},
   "outputs": [
    {
     "name": "stdout",
     "output_type": "stream",
     "text": [
      "<class 'pandas.core.frame.DataFrame'>\n",
      "RangeIndex: 1500 entries, 0 to 1499\n",
      "Data columns (total 15 columns):\n",
      " #   Column              Non-Null Count  Dtype  \n",
      "---  ------              --------------  -----  \n",
      " 0   Date                1000 non-null   object \n",
      " 1   Store ID            1000 non-null   object \n",
      " 2   Product ID          1000 non-null   object \n",
      " 3   Category            1000 non-null   object \n",
      " 4   Region              1000 non-null   object \n",
      " 5   Inventory Level     1000 non-null   float64\n",
      " 6   Units_Sold          1000 non-null   float64\n",
      " 7   Units_Ordered       1000 non-null   float64\n",
      " 8   Demand_Forecast     1000 non-null   float64\n",
      " 9   Price               1000 non-null   float64\n",
      " 10  Discount            1000 non-null   float64\n",
      " 11  Weather_Condition   1000 non-null   object \n",
      " 12  Holiday_Promotion   1000 non-null   float64\n",
      " 13  Competitor_Pricing  1000 non-null   float64\n",
      " 14  Seasonality         1000 non-null   object \n",
      "dtypes: float64(8), object(7)\n",
      "memory usage: 175.9+ KB\n"
     ]
    }
   ],
   "source": [
    "df.info()"
   ]
  },
  {
   "cell_type": "code",
   "execution_count": 13,
   "id": "a367f8ab-654b-43db-9295-c137678f7854",
   "metadata": {},
   "outputs": [],
   "source": [
    "#### as per data information there are 7 categorical feature included date, and 8 numerical columns"
   ]
  },
  {
   "cell_type": "code",
   "execution_count": 14,
   "id": "136afd1a-88db-4b74-bda3-8dd47b4af17e",
   "metadata": {},
   "outputs": [],
   "source": [
    "### 4 : 2 - checking null value"
   ]
  },
  {
   "cell_type": "code",
   "execution_count": 15,
   "id": "3ab4248a-b9e3-4a41-b4ec-352d14f35c9c",
   "metadata": {},
   "outputs": [
    {
     "data": {
      "text/plain": [
       "Date                  500\n",
       "Store ID              500\n",
       "Product ID            500\n",
       "Category              500\n",
       "Region                500\n",
       "Inventory Level       500\n",
       "Units_Sold            500\n",
       "Units_Ordered         500\n",
       "Demand_Forecast       500\n",
       "Price                 500\n",
       "Discount              500\n",
       "Weather_Condition     500\n",
       "Holiday_Promotion     500\n",
       "Competitor_Pricing    500\n",
       "Seasonality           500\n",
       "dtype: int64"
      ]
     },
     "execution_count": 15,
     "metadata": {},
     "output_type": "execute_result"
    }
   ],
   "source": [
    "df.isnull().sum()"
   ]
  },
  {
   "cell_type": "code",
   "execution_count": 16,
   "id": "b79e6f97-70bb-478e-a096-6fe71d925464",
   "metadata": {},
   "outputs": [],
   "source": [
    "#### as per data information there are not indicating any null values"
   ]
  },
  {
   "cell_type": "code",
   "execution_count": 17,
   "id": "e780535c-6298-4705-891c-4e05fe442ea7",
   "metadata": {},
   "outputs": [],
   "source": [
    "### 4 : 3 - checking duplicated value"
   ]
  },
  {
   "cell_type": "code",
   "execution_count": 18,
   "id": "3f11dffa-132f-4642-810b-3c8a774f4625",
   "metadata": {},
   "outputs": [
    {
     "data": {
      "text/plain": [
       "499"
      ]
     },
     "execution_count": 18,
     "metadata": {},
     "output_type": "execute_result"
    }
   ],
   "source": [
    "df.duplicated().sum()"
   ]
  },
  {
   "cell_type": "code",
   "execution_count": 19,
   "id": "6fab5606-ca72-43b8-9999-e5e0311c976e",
   "metadata": {},
   "outputs": [],
   "source": [
    "#### there is no any duplicated value"
   ]
  },
  {
   "cell_type": "code",
   "execution_count": 20,
   "id": "31d9c3c8-d652-4ea3-bbf3-0bd17f8180b7",
   "metadata": {},
   "outputs": [],
   "source": [
    "##  5 Descriptive Statistics"
   ]
  },
  {
   "cell_type": "code",
   "execution_count": 21,
   "id": "de6184c5-d454-4eea-beb5-1138f653c01b",
   "metadata": {},
   "outputs": [],
   "source": [
    "### 5:1 Numerical summaries"
   ]
  },
  {
   "cell_type": "code",
   "execution_count": 22,
   "id": "90a91942-ef10-483a-8436-032baebd7834",
   "metadata": {},
   "outputs": [
    {
     "data": {
      "text/html": [
       "<div>\n",
       "<style scoped>\n",
       "    .dataframe tbody tr th:only-of-type {\n",
       "        vertical-align: middle;\n",
       "    }\n",
       "\n",
       "    .dataframe tbody tr th {\n",
       "        vertical-align: top;\n",
       "    }\n",
       "\n",
       "    .dataframe thead th {\n",
       "        text-align: right;\n",
       "    }\n",
       "</style>\n",
       "<table border=\"1\" class=\"dataframe\">\n",
       "  <thead>\n",
       "    <tr style=\"text-align: right;\">\n",
       "      <th></th>\n",
       "      <th>count</th>\n",
       "      <th>mean</th>\n",
       "      <th>std</th>\n",
       "      <th>min</th>\n",
       "      <th>25%</th>\n",
       "      <th>50%</th>\n",
       "      <th>75%</th>\n",
       "      <th>max</th>\n",
       "    </tr>\n",
       "  </thead>\n",
       "  <tbody>\n",
       "    <tr>\n",
       "      <th>Inventory Level</th>\n",
       "      <td>1000.0</td>\n",
       "      <td>275.39900</td>\n",
       "      <td>127.726684</td>\n",
       "      <td>50.00</td>\n",
       "      <td>170.0000</td>\n",
       "      <td>271.500</td>\n",
       "      <td>388.0000</td>\n",
       "      <td>499.00</td>\n",
       "    </tr>\n",
       "    <tr>\n",
       "      <th>Units_Sold</th>\n",
       "      <td>1000.0</td>\n",
       "      <td>136.08600</td>\n",
       "      <td>104.650745</td>\n",
       "      <td>0.00</td>\n",
       "      <td>51.7500</td>\n",
       "      <td>107.500</td>\n",
       "      <td>203.0000</td>\n",
       "      <td>480.00</td>\n",
       "    </tr>\n",
       "    <tr>\n",
       "      <th>Units_Ordered</th>\n",
       "      <td>1000.0</td>\n",
       "      <td>109.91900</td>\n",
       "      <td>53.361314</td>\n",
       "      <td>20.00</td>\n",
       "      <td>65.0000</td>\n",
       "      <td>110.000</td>\n",
       "      <td>157.0000</td>\n",
       "      <td>200.00</td>\n",
       "    </tr>\n",
       "    <tr>\n",
       "      <th>Demand_Forecast</th>\n",
       "      <td>1000.0</td>\n",
       "      <td>140.98079</td>\n",
       "      <td>105.195853</td>\n",
       "      <td>-8.37</td>\n",
       "      <td>54.9125</td>\n",
       "      <td>113.645</td>\n",
       "      <td>207.3425</td>\n",
       "      <td>480.66</td>\n",
       "    </tr>\n",
       "    <tr>\n",
       "      <th>Price</th>\n",
       "      <td>1000.0</td>\n",
       "      <td>56.65425</td>\n",
       "      <td>25.676545</td>\n",
       "      <td>10.06</td>\n",
       "      <td>34.3950</td>\n",
       "      <td>57.810</td>\n",
       "      <td>80.0225</td>\n",
       "      <td>99.92</td>\n",
       "    </tr>\n",
       "    <tr>\n",
       "      <th>Discount</th>\n",
       "      <td>1000.0</td>\n",
       "      <td>9.80500</td>\n",
       "      <td>7.059519</td>\n",
       "      <td>0.00</td>\n",
       "      <td>5.0000</td>\n",
       "      <td>10.000</td>\n",
       "      <td>15.0000</td>\n",
       "      <td>20.00</td>\n",
       "    </tr>\n",
       "    <tr>\n",
       "      <th>Holiday_Promotion</th>\n",
       "      <td>1000.0</td>\n",
       "      <td>0.49800</td>\n",
       "      <td>0.500246</td>\n",
       "      <td>0.00</td>\n",
       "      <td>0.0000</td>\n",
       "      <td>0.000</td>\n",
       "      <td>1.0000</td>\n",
       "      <td>1.00</td>\n",
       "    </tr>\n",
       "    <tr>\n",
       "      <th>Competitor_Pricing</th>\n",
       "      <td>1000.0</td>\n",
       "      <td>56.60273</td>\n",
       "      <td>25.818513</td>\n",
       "      <td>7.60</td>\n",
       "      <td>34.5625</td>\n",
       "      <td>57.565</td>\n",
       "      <td>79.5775</td>\n",
       "      <td>104.06</td>\n",
       "    </tr>\n",
       "  </tbody>\n",
       "</table>\n",
       "</div>"
      ],
      "text/plain": [
       "                     count       mean         std    min       25%      50%  \\\n",
       "Inventory Level     1000.0  275.39900  127.726684  50.00  170.0000  271.500   \n",
       "Units_Sold          1000.0  136.08600  104.650745   0.00   51.7500  107.500   \n",
       "Units_Ordered       1000.0  109.91900   53.361314  20.00   65.0000  110.000   \n",
       "Demand_Forecast     1000.0  140.98079  105.195853  -8.37   54.9125  113.645   \n",
       "Price               1000.0   56.65425   25.676545  10.06   34.3950   57.810   \n",
       "Discount            1000.0    9.80500    7.059519   0.00    5.0000   10.000   \n",
       "Holiday_Promotion   1000.0    0.49800    0.500246   0.00    0.0000    0.000   \n",
       "Competitor_Pricing  1000.0   56.60273   25.818513   7.60   34.5625   57.565   \n",
       "\n",
       "                         75%     max  \n",
       "Inventory Level     388.0000  499.00  \n",
       "Units_Sold          203.0000  480.00  \n",
       "Units_Ordered       157.0000  200.00  \n",
       "Demand_Forecast     207.3425  480.66  \n",
       "Price                80.0225   99.92  \n",
       "Discount             15.0000   20.00  \n",
       "Holiday_Promotion     1.0000    1.00  \n",
       "Competitor_Pricing   79.5775  104.06  "
      ]
     },
     "metadata": {},
     "output_type": "display_data"
    }
   ],
   "source": [
    "display(df.describe().T)"
   ]
  },
  {
   "cell_type": "markdown",
   "id": "0f27af1c-42db-48f7-9833-272d6aac593d",
   "metadata": {},
   "source": [
    "### Observations\n",
    "- No missing values.\n",
    "- Inventory: 50–499, avg ~275.\n",
    "- Units_Sold: 0–480, highly variable.\n",
    "- Units_Ordered: ~110 median.\n",
    "- Demand_Forecast: one negative (needs cleaning).\n",
    "- Price: 10–100, avg ~57.\n",
    "- Discount: mostly low (0–20, avg ~10).\n",
    "- Holiday_Promotion: binary 0/1.\n",
    "- Competitor_Pricing: similar to Price (7-107)"
   ]
  },
  {
   "cell_type": "code",
   "execution_count": 23,
   "id": "6e479a3d-66f8-4a0b-a383-9027535641f0",
   "metadata": {},
   "outputs": [],
   "source": [
    "### 5:2 Unique count for categorical variable"
   ]
  },
  {
   "cell_type": "code",
   "execution_count": 24,
   "id": "720e23b6-bc75-4029-b4e9-45efc1e14cd1",
   "metadata": {},
   "outputs": [
    {
     "data": {
      "text/plain": [
       "Date                 10\n",
       "Store ID              5\n",
       "Product ID           20\n",
       "Category              5\n",
       "Region                4\n",
       "Weather_Condition     4\n",
       "Seasonality           4\n",
       "dtype: int64"
      ]
     },
     "metadata": {},
     "output_type": "display_data"
    }
   ],
   "source": [
    "#display(df.select_dtypes(include=['object','category']).nunique())\n",
    "\n",
    "display(df.select_dtypes(include=['object','category']).nunique())\n"
   ]
  },
  {
   "cell_type": "code",
   "execution_count": 25,
   "id": "e7b9a848-615f-4a5e-b293-db1ef075a8b7",
   "metadata": {},
   "outputs": [],
   "source": [
    "## 6. Target Variable Analysis (Units_Sold)\n"
   ]
  },
  {
   "cell_type": "code",
   "execution_count": 26,
   "id": "9909f110-18ab-4abc-be22-58aaf5ded673",
   "metadata": {},
   "outputs": [],
   "source": [
    "## 6:1 Distribution"
   ]
  },
  {
   "cell_type": "code",
   "execution_count": 27,
   "id": "22bce15c-d405-4a31-9643-8dd8cefe0f95",
   "metadata": {},
   "outputs": [
    {
     "data": {
      "image/png": "[encoded data removed]",
      "text/plain": [
       "<Figure size 576x288 with 1 Axes>"
      ]
     },
     "metadata": {
      "needs_background": "light"
     },
     "output_type": "display_data"
    },
    {
     "data": {
      "image/png": "[encoded data removed]",
      "text/plain": [
       "<Figure size 432x216 with 1 Axes>"
      ]
     },
     "metadata": {
      "needs_background": "light"
     },
     "output_type": "display_data"
    }
   ],
   "source": [
    "plt.figure(figsize=(8,4))\n",
    "sns.histplot(df['Units_Sold'], bins=40, kde=True)\n",
    "plt.title('Units_Sold Distribution')\n",
    "plt.show()\n",
    "\n",
    "plt.figure(figsize=(6,3))\n",
    "sns.boxplot(x=df['Units_Sold'])\n",
    "plt.title('Units_Sold Boxplot')\n",
    "plt.show()\n"
   ]
  },
  {
   "cell_type": "code",
   "execution_count": 28,
   "id": "83862d40-42a7-42ff-8889-b80f7f8d4c9f",
   "metadata": {},
   "outputs": [
    {
     "data": {
      "image/png": "[encoded data removed]",
      "text/plain": [
       "<Figure size 864x288 with 1 Axes>"
      ]
     },
     "metadata": {
      "needs_background": "light"
     },
     "output_type": "display_data"
    }
   ],
   "source": [
    "# Trend over time (aggregate)\n",
    "df['Date'] = pd.to_datetime(df['Date'])\n",
    "daily_sales = df.groupby('Date')['Units_Sold'].sum().reset_index()\n",
    "\n",
    "plt.figure(figsize=(12,4))\n",
    "plt.plot(daily_sales['Date'], daily_sales['Units_Sold'])\n",
    "plt.title('Total Units Sold Over Time')\n",
    "plt.xlabel('Date'); plt.ylabel('Units_Sold')\n",
    "plt.show()\n"
   ]
  },
  {
   "cell_type": "code",
   "execution_count": 29,
   "id": "63057330-10ab-45cd-8398-17a71994e01f",
   "metadata": {},
   "outputs": [
    {
     "data": {
      "image/png": "[encoded data removed]",
      "text/plain": [
       "<Figure size 864x576 with 9 Axes>"
      ]
     },
     "metadata": {
      "needs_background": "light"
     },
     "output_type": "display_data"
    }
   ],
   "source": [
    "# 7. Numerical Features Analysis\n",
    "num_cols = ['Inventory Level','Units_Sold','Units_Ordered','Demand_Forecast','Price','Discount','Competitor_Pricing']\n",
    "df[num_cols].hist(bins=30, figsize=(12,8))\n",
    "plt.tight_layout()\n",
    "plt.show()\n"
   ]
  },
  {
   "cell_type": "code",
   "execution_count": 30,
   "id": "1042cc68-1b29-435f-9f61-bdcd30c651f1",
   "metadata": {},
   "outputs": [
    {
     "data": {
      "image/png": "[encoded data removed]",
      "text/plain": [
       "<Figure size 576x432 with 2 Axes>"
      ]
     },
     "metadata": {
      "needs_background": "light"
     },
     "output_type": "display_data"
    }
   ],
   "source": [
    "# Correlation with target\n",
    "corr = df[num_cols].corr()\n",
    "plt.figure(figsize=(8,6))\n",
    "sns.heatmap(corr, annot=True, fmt=\".2f\", cmap='coolwarm')\n",
    "plt.title('Numeric Feature Correlation')\n",
    "plt.show()"
   ]
  },
  {
   "cell_type": "code",
   "execution_count": 31,
   "id": "9e824ca7-ae81-4485-ab10-0d057e5aabb9",
   "metadata": {},
   "outputs": [
    {
     "name": "stdout",
     "output_type": "stream",
     "text": [
      "Correlation with Units_Sold:\n",
      " Units_Sold            1.000000\n",
      "Demand_Forecast       0.996702\n",
      "Inventory Level       0.570412\n",
      "Discount              0.030407\n",
      "Units_Ordered         0.004302\n",
      "Price                -0.006371\n",
      "Competitor_Pricing   -0.007257\n",
      "Name: Units_Sold, dtype: float64\n"
     ]
    }
   ],
   "source": [
    "# Show top correlations with Units_Sold\n",
    "corr_with_target = corr['Units_Sold'].sort_values(ascending=False)\n",
    "print(\"Correlation with Units_Sold:\\n\", corr_with_target)\n"
   ]
  },
  {
   "cell_type": "code",
   "execution_count": 32,
   "id": "8d3c3f5d-d90c-4788-b37a-634bf3229ff2",
   "metadata": {},
   "outputs": [],
   "source": [
    "# 8. Categorical Features Analysis\n",
    "cat_cols = ['Store ID','Product ID','Category','Region','Weather_Condition','Holiday_Promotion','Seasonality']"
   ]
  },
  {
   "cell_type": "code",
   "execution_count": 33,
   "id": "cdf72abe-12a8-4856-b192-d7e9f5598a3f",
   "metadata": {},
   "outputs": [
    {
     "data": {
      "image/png": "[encoded data removed]",
      "text/plain": [
       "<Figure size 576x216 with 1 Axes>"
      ]
     },
     "metadata": {
      "needs_background": "light"
     },
     "output_type": "display_data"
    },
    {
     "data": {
      "image/png": "[encoded data removed]",
      "text/plain": [
       "<Figure size 576x216 with 1 Axes>"
      ]
     },
     "metadata": {
      "needs_background": "light"
     },
     "output_type": "display_data"
    },
    {
     "data": {
      "image/png": "[encoded data removed]",
      "text/plain": [
       "<Figure size 576x216 with 1 Axes>"
      ]
     },
     "metadata": {
      "needs_background": "light"
     },
     "output_type": "display_data"
    }
   ],
   "source": [
    "# Count plots for top categories ( Category, Region)\n",
    "for c in ['Category','Region','Weather_Condition']:\n",
    "    plt.figure(figsize=(8,3))\n",
    "    vc = df[c].value_counts().nlargest(20)\n",
    "    sns.barplot(x=vc.values, y=vc.index)\n",
    "    plt.title(f'Top values in {c}')\n",
    "    plt.show()\n",
    "\n"
   ]
  },
  {
   "cell_type": "code",
   "execution_count": 34,
   "id": "b83940cc-daea-4a5e-849a-2f5bc3447b04",
   "metadata": {},
   "outputs": [
    {
     "data": {
      "image/png": "[encoded data removed]",
      "text/plain": [
       "<Figure size 720x288 with 1 Axes>"
      ]
     },
     "metadata": {
      "needs_background": "light"
     },
     "output_type": "display_data"
    }
   ],
   "source": [
    "# Boxplot: Units_Sold by Category\n",
    "plt.figure(figsize=(10,4))\n",
    "sns.boxplot(x='Category', y='Units_Sold', data=df)\n",
    "plt.xticks(rotation=45)\n",
    "plt.title('Units_Sold by Category')\n",
    "plt.show()\n"
   ]
  },
  {
   "cell_type": "code",
   "execution_count": 35,
   "id": "aa9e7de7-5b58-458f-ac84-f462d69cc5a5",
   "metadata": {},
   "outputs": [
    {
     "data": {
      "image/png": "[encoded data removed]",
      "text/plain": [
       "<Figure size 432x288 with 1 Axes>"
      ]
     },
     "metadata": {
      "needs_background": "light"
     },
     "output_type": "display_data"
    }
   ],
   "source": [
    "# Holiday promotion effect\n",
    "plt.figure(figsize=(6,4))\n",
    "sns.boxplot(x='Holiday_Promotion', y='Units_Sold', data=df)\n",
    "plt.title('Units_Sold vs Holiday_Promotion')\n",
    "plt.show()"
   ]
  },
  {
   "cell_type": "code",
   "execution_count": 36,
   "id": "7d1bea51-afe1-4c4b-8566-a58e5e5b0f13",
   "metadata": {},
   "outputs": [],
   "source": [
    "# 9. Time-based Features\n",
    "df['day'] = df['Date'].dt.day\n",
    "df['month'] = df['Date'].dt.month\n",
    "df['year'] = df['Date'].dt.year\n",
    "df['weekday'] = df['Date'].dt.weekday\n",
    "df['is_weekend'] = df['weekday'].isin([5,6]).astype(int)\n"
   ]
  },
  {
   "cell_type": "code",
   "execution_count": 37,
   "id": "e8052aa4-17d3-4ae7-b9a2-ea74eeb591c5",
   "metadata": {},
   "outputs": [
    {
     "data": {
      "image/png": "[encoded data removed]",
      "text/plain": [
       "<Figure size 864x288 with 1 Axes>"
      ]
     },
     "metadata": {
      "needs_background": "light"
     },
     "output_type": "display_data"
    }
   ],
   "source": [
    "# Aggregations for seasonality\n",
    "monthly = df.groupby(['year','month'])['Units_Sold'].sum().reset_index()\n",
    "monthly['ym'] = pd.to_datetime(monthly[['year','month']].assign(day=1))\n",
    "plt.figure(figsize=(12,4))\n",
    "plt.plot(monthly['ym'], monthly['Units_Sold'])\n",
    "plt.title('Monthly Units_Sold')\n",
    "plt.show()"
   ]
  },
  {
   "cell_type": "code",
   "execution_count": 38,
   "id": "4272eff0-6ccb-497f-98a0-0ae59dd72033",
   "metadata": {},
   "outputs": [
    {
     "name": "stdout",
     "output_type": "stream",
     "text": [
      "is_weekend\n",
      "0    136.318571\n",
      "1    135.543333\n",
      "Name: Units_Sold, dtype: float64\n"
     ]
    }
   ],
   "source": [
    "# Weekend vs weekday average sales\n",
    "print(df.groupby('is_weekend')['Units_Sold'].mean())\n"
   ]
  },
  {
   "cell_type": "code",
   "execution_count": 39,
   "id": "58f304c4-7fa3-478c-a6e5-549d641c7b9d",
   "metadata": {},
   "outputs": [
    {
     "data": {
      "image/png": "[encoded data removed]",
      "text/plain": [
       "<Figure size 432x288 with 1 Axes>"
      ]
     },
     "metadata": {
      "needs_background": "light"
     },
     "output_type": "display_data"
    }
   ],
   "source": [
    "# 10. Feature Relationships\n",
    "# Price vs Units_Sold scatter\n",
    "plt.figure(figsize=(6,4))\n",
    "sns.scatterplot(x='Price', y='Units_Sold', data=df, alpha=0.5)\n",
    "plt.title('Price vs Units_Sold')\n",
    "plt.show()"
   ]
  },
  {
   "cell_type": "code",
   "execution_count": 40,
   "id": "642c590a-0e71-4ce6-a03e-a7a5510daa50",
   "metadata": {},
   "outputs": [
    {
     "data": {
      "image/png": "[encoded data removed]",
      "text/plain": [
       "<Figure size 432x288 with 1 Axes>"
      ]
     },
     "metadata": {
      "needs_background": "light"
     },
     "output_type": "display_data"
    }
   ],
   "source": [
    "# Discount vs Units_Sold scatter\n",
    "plt.figure(figsize=(6,4))\n",
    "sns.scatterplot(x='Discount', y='Units_Sold', data=df, alpha=0.5)\n",
    "plt.title('Discount vs Units_Sold')\n",
    "plt.show()\n"
   ]
  },
  {
   "cell_type": "code",
   "execution_count": 41,
   "id": "5657fd93-2876-456f-aba4-0fcdcfa0ebf9",
   "metadata": {},
   "outputs": [
    {
     "data": {
      "image/png": "[encoded data removed]",
      "text/plain": [
       "<Figure size 864x288 with 1 Axes>"
      ]
     },
     "metadata": {
      "needs_background": "light"
     },
     "output_type": "display_data"
    }
   ],
   "source": [
    "# Compare Demand_Forecast vs actual Units_Sold (aggregate)\n",
    "df_sample = df.groupby('Date')[['Units_Sold','Demand_Forecast']].sum().reset_index()\n",
    "plt.figure(figsize=(12,4))\n",
    "plt.plot(df_sample['Date'], df_sample['Units_Sold'], label='Actual')\n",
    "plt.plot(df_sample['Date'], df_sample['Demand_Forecast'], label='Forecasted', alpha=0.8)\n",
    "plt.legend()\n",
    "plt.title('Actual vs Demand_Forecast (Daily)')\n",
    "plt.show()\n"
   ]
  },
  {
   "cell_type": "code",
   "execution_count": 42,
   "id": "6daccc0d-6e33-4134-a1fc-a6d250144fcb",
   "metadata": {},
   "outputs": [
    {
     "name": "stdout",
     "output_type": "stream",
     "text": [
      "Missing percent per column:\n",
      " Date                  33.333333\n",
      "Store ID              33.333333\n",
      "weekday               33.333333\n",
      "year                  33.333333\n",
      "month                 33.333333\n",
      "day                   33.333333\n",
      "Seasonality           33.333333\n",
      "Competitor_Pricing    33.333333\n",
      "Holiday_Promotion     33.333333\n",
      "Weather_Condition     33.333333\n",
      "Discount              33.333333\n",
      "Price                 33.333333\n",
      "Demand_Forecast       33.333333\n",
      "Units_Ordered         33.333333\n",
      "Units_Sold            33.333333\n",
      "Inventory Level       33.333333\n",
      "Region                33.333333\n",
      "Category              33.333333\n",
      "Product ID            33.333333\n",
      "is_weekend             0.000000\n",
      "dtype: float64\n"
     ]
    }
   ],
   "source": [
    "# 11. Missing Values\n",
    "missing_pct = df.isnull().mean().sort_values(ascending=False) * 100\n",
    "print(\"Missing percent per column:\\n\", missing_pct)\n"
   ]
  },
  {
   "cell_type": "code",
   "execution_count": 43,
   "id": "548da2bf-8c7d-464c-803b-6a4caa2a775b",
   "metadata": {},
   "outputs": [
    {
     "name": "stdout",
     "output_type": "stream",
     "text": [
      "Units_Sold IQR bounds: -175.125 429.875\n",
      "Outlier count (Units_Sold): 9\n"
     ]
    }
   ],
   "source": [
    "# 12. Outlier Detection\n",
    "# IQR method for Units_Sold\n",
    "Q1 = df['Units_Sold'].quantile(0.25)\n",
    "Q3 = df['Units_Sold'].quantile(0.75)\n",
    "IQR = Q3 - Q1\n",
    "lower = Q1 - 1.5*IQR\n",
    "upper = Q3 + 1.5*IQR\n",
    "print(\"Units_Sold IQR bounds:\", lower, upper)\n",
    "outliers = df[(df['Units_Sold'] < lower) | (df['Units_Sold'] > upper)]\n",
    "print(\"Outlier count (Units_Sold):\", len(outliers))\n"
   ]
  },
  {
   "cell_type": "code",
   "execution_count": 44,
   "id": "713ab14e-b712-463d-a5bf-b141982de41e",
   "metadata": {},
   "outputs": [],
   "source": [
    "# Option: Cap the values\n",
    "df['Units_Sold_capped'] = df['Units_Sold'].clip(lower=lower, upper=upper)\n"
   ]
  },
  {
   "cell_type": "code",
   "execution_count": 45,
   "id": "dbe9754e-3048-4e07-8294-7e7f118b7148",
   "metadata": {},
   "outputs": [],
   "source": [
    "# 13. Feature Engineering\n",
    "# Revenue and effective price\n",
    "df['Total_Revenue'] = df['Units_Sold'] * df['Price']\n",
    "df['Effective_Price'] = df['Price'] - df['Discount']\n"
   ]
  },
  {
   "cell_type": "code",
   "execution_count": 46,
   "id": "9482902c-8e7a-49b9-82bb-2dadfa2c73fc",
   "metadata": {},
   "outputs": [],
   "source": [
    "# Lag features by Store+Product (group-wise)\n",
    "df = df.sort_values(['Store ID','Product ID','Date'])\n",
    "df['Units_Sold_Lag1'] = df.groupby(['Store ID','Product ID'])['Units_Sold'].shift(1)\n",
    "df['Units_Sold_Lag7'] = df.groupby(['Store ID','Product ID'])['Units_Sold'].shift(7)\n",
    "df['Units_Sold_Lag1'].fillna(0, inplace=True)\n",
    "df['Units_Sold_Lag7'].fillna(0, inplace=True)\n"
   ]
  },
  {
   "cell_type": "code",
   "execution_count": 47,
   "id": "da8b30f1-b18b-4924-9ab3-d5502d124073",
   "metadata": {},
   "outputs": [],
   "source": [
    "# Rolling mean (7-day) daily aggregated sales\n",
    "daily = df.groupby('Date')['Units_Sold'].sum().reset_index()\n",
    "daily['rolling_7'] = daily['Units_Sold'].rolling(window=7, min_periods=1).mean()"
   ]
  },
  {
   "cell_type": "code",
   "execution_count": 48,
   "id": "3a7ef9fd-a011-46a0-a49c-8c3aedd400f2",
   "metadata": {},
   "outputs": [
    {
     "name": "stdout",
     "output_type": "stream",
     "text": [
      "Average Units_Sold when discount>0: 136.07980049875312\n",
      "Average Units_Sold when discount==0: 136.11111111111111\n"
     ]
    }
   ],
   "source": [
    "# 14. Business Validation (quick checks)\n",
    "# 1) Do discounts increase units sold (on average)?\n",
    "print(\"Average Units_Sold when discount>0:\", df.loc[df['Discount']>0,'Units_Sold'].mean())\n",
    "print(\"Average Units_Sold when discount==0:\", df.loc[df['Discount']==0,'Units_Sold'].mean())\n",
    "\n"
   ]
  },
  {
   "cell_type": "code",
   "execution_count": 49,
   "id": "e2a8ab2d-b37f-4f8d-baf8-a68b5aa32d0a",
   "metadata": {},
   "outputs": [
    {
     "name": "stdout",
     "output_type": "stream",
     "text": [
      "Avg Units_Sold during holiday promotion: 130.85140562248995\n",
      "Avg Units_Sold without promotion: 141.27888446215138\n"
     ]
    }
   ],
   "source": [
    "# 2) Do holiday promotions spike sales?\n",
    "print(\"Avg Units_Sold during holiday promotion:\", df.loc[df['Holiday_Promotion']==1, 'Units_Sold'].mean())\n",
    "print(\"Avg Units_Sold without promotion:\", df.loc[df['Holiday_Promotion']==0, 'Units_Sold'].mean())\n"
   ]
  },
  {
   "cell_type": "code",
   "execution_count": 50,
   "id": "b48b86bf-c450-4633-b291-2a01bf1743fe",
   "metadata": {},
   "outputs": [
    {
     "name": "stdout",
     "output_type": "stream",
     "text": [
      "Corr(Competitor_Pricing, Price) = 0.9935594256110729\n",
      "Corr(Competitor_Pricing, Units_Sold) = -0.007257356039258205\n"
     ]
    }
   ],
   "source": [
    "# 3) Does competitor pricing correlate with own price or affect sales?\n",
    "print(\"Corr(Competitor_Pricing, Price) =\",\n",
    "      df['Competitor_Pricing'].corr(df['Price']))\n",
    "print(\"Corr(Competitor_Pricing, Units_Sold) =\",\n",
    "      df['Competitor_Pricing'].corr(df['Units_Sold']))\n"
   ]
  },
  {
   "cell_type": "code",
   "execution_count": 51,
   "id": "e3790a4e-9415-4e12-bcef-67b9a88f7058",
   "metadata": {},
   "outputs": [],
   "source": [
    "import json\n"
   ]
  },
  {
   "cell_type": "code",
   "execution_count": 52,
   "id": "355e954d-c8bb-4e26-b829-b836f8f06013",
   "metadata": {},
   "outputs": [
    {
     "name": "stdout",
     "output_type": "stream",
     "text": [
      "{\n",
      "  \"no_missing\": false,\n",
      "  \"inventory_range\": [\n",
      "    50,\n",
      "    499\n",
      "  ],\n",
      "  \"units_sold_mean\": 136.086,\n",
      "  \"units_sold_variance\": 104.65074477700765,\n",
      "  \"demand_forecast_min\": -8.37,\n",
      "  \"price_median\": 57.81,\n",
      "  \"holiday_ratio\": 0.498\n",
      "}\n"
     ]
    }
   ],
   "source": [
    "# 15. Summary of Insights (create a condensed text output you can copy to report)\n",
    "\n",
    "summary = {\n",
    "    \"no_missing\": bool(df.isnull().sum().sum() == 0),\n",
    "    \"inventory_range\": (\n",
    "        int(df['Inventory Level'].min()),\n",
    "        int(df['Inventory Level'].max())\n",
    "    ),\n",
    "    \"units_sold_mean\": float(df['Units_Sold'].mean()),\n",
    "    \"units_sold_variance\": float(df['Units_Sold'].std()),\n",
    "    \"demand_forecast_min\": float(df['Demand_Forecast'].min()),\n",
    "    \"price_median\": float(df['Price'].median()),\n",
    "    \"holiday_ratio\": float(df['Holiday_Promotion'].mean())\n",
    "}\n",
    "\n",
    "import json\n",
    "print(json.dumps(summary, indent=2))\n"
   ]
  },
  {
   "cell_type": "code",
   "execution_count": 53,
   "id": "d8241f61-baff-44df-b708-243f2794d596",
   "metadata": {},
   "outputs": [
    {
     "data": {
      "text/html": [
       "<div>\n",
       "<style scoped>\n",
       "    .dataframe tbody tr th:only-of-type {\n",
       "        vertical-align: middle;\n",
       "    }\n",
       "\n",
       "    .dataframe tbody tr th {\n",
       "        vertical-align: top;\n",
       "    }\n",
       "\n",
       "    .dataframe thead th {\n",
       "        text-align: right;\n",
       "    }\n",
       "</style>\n",
       "<table border=\"1\" class=\"dataframe\">\n",
       "  <thead>\n",
       "    <tr style=\"text-align: right;\">\n",
       "      <th></th>\n",
       "      <th>Date</th>\n",
       "      <th>Store ID</th>\n",
       "      <th>Product ID</th>\n",
       "      <th>Category</th>\n",
       "      <th>Region</th>\n",
       "      <th>Inventory Level</th>\n",
       "      <th>Units_Sold</th>\n",
       "      <th>Units_Ordered</th>\n",
       "      <th>Demand_Forecast</th>\n",
       "      <th>Price</th>\n",
       "      <th>...</th>\n",
       "      <th>day</th>\n",
       "      <th>month</th>\n",
       "      <th>year</th>\n",
       "      <th>weekday</th>\n",
       "      <th>is_weekend</th>\n",
       "      <th>Units_Sold_capped</th>\n",
       "      <th>Total_Revenue</th>\n",
       "      <th>Effective_Price</th>\n",
       "      <th>Units_Sold_Lag1</th>\n",
       "      <th>Units_Sold_Lag7</th>\n",
       "    </tr>\n",
       "  </thead>\n",
       "  <tbody>\n",
       "    <tr>\n",
       "      <th>0</th>\n",
       "      <td>2022-01-01</td>\n",
       "      <td>S001</td>\n",
       "      <td>P0001</td>\n",
       "      <td>Groceries</td>\n",
       "      <td>North</td>\n",
       "      <td>231.0</td>\n",
       "      <td>127.0</td>\n",
       "      <td>55.0</td>\n",
       "      <td>135.47</td>\n",
       "      <td>33.50</td>\n",
       "      <td>...</td>\n",
       "      <td>1.0</td>\n",
       "      <td>1.0</td>\n",
       "      <td>2022.0</td>\n",
       "      <td>5.0</td>\n",
       "      <td>1</td>\n",
       "      <td>127.0</td>\n",
       "      <td>4254.50</td>\n",
       "      <td>13.50</td>\n",
       "      <td>0.0</td>\n",
       "      <td>0.0</td>\n",
       "    </tr>\n",
       "    <tr>\n",
       "      <th>100</th>\n",
       "      <td>2022-02-01</td>\n",
       "      <td>S001</td>\n",
       "      <td>P0001</td>\n",
       "      <td>Groceries</td>\n",
       "      <td>West</td>\n",
       "      <td>116.0</td>\n",
       "      <td>81.0</td>\n",
       "      <td>104.0</td>\n",
       "      <td>92.94</td>\n",
       "      <td>27.95</td>\n",
       "      <td>...</td>\n",
       "      <td>1.0</td>\n",
       "      <td>2.0</td>\n",
       "      <td>2022.0</td>\n",
       "      <td>1.0</td>\n",
       "      <td>0</td>\n",
       "      <td>81.0</td>\n",
       "      <td>2263.95</td>\n",
       "      <td>17.95</td>\n",
       "      <td>127.0</td>\n",
       "      <td>0.0</td>\n",
       "    </tr>\n",
       "    <tr>\n",
       "      <th>200</th>\n",
       "      <td>2022-03-01</td>\n",
       "      <td>S001</td>\n",
       "      <td>P0001</td>\n",
       "      <td>Electronics</td>\n",
       "      <td>West</td>\n",
       "      <td>154.0</td>\n",
       "      <td>5.0</td>\n",
       "      <td>189.0</td>\n",
       "      <td>5.36</td>\n",
       "      <td>62.70</td>\n",
       "      <td>...</td>\n",
       "      <td>1.0</td>\n",
       "      <td>3.0</td>\n",
       "      <td>2022.0</td>\n",
       "      <td>1.0</td>\n",
       "      <td>0</td>\n",
       "      <td>5.0</td>\n",
       "      <td>313.50</td>\n",
       "      <td>42.70</td>\n",
       "      <td>81.0</td>\n",
       "      <td>0.0</td>\n",
       "    </tr>\n",
       "    <tr>\n",
       "      <th>300</th>\n",
       "      <td>2022-04-01</td>\n",
       "      <td>S001</td>\n",
       "      <td>P0001</td>\n",
       "      <td>Groceries</td>\n",
       "      <td>South</td>\n",
       "      <td>85.0</td>\n",
       "      <td>58.0</td>\n",
       "      <td>193.0</td>\n",
       "      <td>52.87</td>\n",
       "      <td>77.88</td>\n",
       "      <td>...</td>\n",
       "      <td>1.0</td>\n",
       "      <td>4.0</td>\n",
       "      <td>2022.0</td>\n",
       "      <td>4.0</td>\n",
       "      <td>0</td>\n",
       "      <td>58.0</td>\n",
       "      <td>4517.04</td>\n",
       "      <td>62.88</td>\n",
       "      <td>5.0</td>\n",
       "      <td>0.0</td>\n",
       "    </tr>\n",
       "    <tr>\n",
       "      <th>400</th>\n",
       "      <td>2022-05-01</td>\n",
       "      <td>S001</td>\n",
       "      <td>P0001</td>\n",
       "      <td>Groceries</td>\n",
       "      <td>South</td>\n",
       "      <td>238.0</td>\n",
       "      <td>147.0</td>\n",
       "      <td>37.0</td>\n",
       "      <td>150.27</td>\n",
       "      <td>28.46</td>\n",
       "      <td>...</td>\n",
       "      <td>1.0</td>\n",
       "      <td>5.0</td>\n",
       "      <td>2022.0</td>\n",
       "      <td>6.0</td>\n",
       "      <td>1</td>\n",
       "      <td>147.0</td>\n",
       "      <td>4183.62</td>\n",
       "      <td>8.46</td>\n",
       "      <td>58.0</td>\n",
       "      <td>0.0</td>\n",
       "    </tr>\n",
       "  </tbody>\n",
       "</table>\n",
       "<p>5 rows × 25 columns</p>\n",
       "</div>"
      ],
      "text/plain": [
       "          Date Store ID Product ID     Category Region  Inventory Level  \\\n",
       "0   2022-01-01     S001      P0001    Groceries  North            231.0   \n",
       "100 2022-02-01     S001      P0001    Groceries   West            116.0   \n",
       "200 2022-03-01     S001      P0001  Electronics   West            154.0   \n",
       "300 2022-04-01     S001      P0001    Groceries  South             85.0   \n",
       "400 2022-05-01     S001      P0001    Groceries  South            238.0   \n",
       "\n",
       "     Units_Sold  Units_Ordered  Demand_Forecast  Price  ...  day month  \\\n",
       "0         127.0           55.0           135.47  33.50  ...  1.0   1.0   \n",
       "100        81.0          104.0            92.94  27.95  ...  1.0   2.0   \n",
       "200         5.0          189.0             5.36  62.70  ...  1.0   3.0   \n",
       "300        58.0          193.0            52.87  77.88  ...  1.0   4.0   \n",
       "400       147.0           37.0           150.27  28.46  ...  1.0   5.0   \n",
       "\n",
       "       year  weekday is_weekend  Units_Sold_capped  Total_Revenue  \\\n",
       "0    2022.0      5.0          1              127.0        4254.50   \n",
       "100  2022.0      1.0          0               81.0        2263.95   \n",
       "200  2022.0      1.0          0                5.0         313.50   \n",
       "300  2022.0      4.0          0               58.0        4517.04   \n",
       "400  2022.0      6.0          1              147.0        4183.62   \n",
       "\n",
       "     Effective_Price  Units_Sold_Lag1  Units_Sold_Lag7  \n",
       "0              13.50              0.0              0.0  \n",
       "100            17.95            127.0              0.0  \n",
       "200            42.70             81.0              0.0  \n",
       "300            62.88              5.0              0.0  \n",
       "400             8.46             58.0              0.0  \n",
       "\n",
       "[5 rows x 25 columns]"
      ]
     },
     "execution_count": 53,
     "metadata": {},
     "output_type": "execute_result"
    }
   ],
   "source": [
    "df.head()"
   ]
  },
  {
   "cell_type": "code",
   "execution_count": 54,
   "id": "bcef0c8e-a1b1-4041-9cca-60e927db73d3",
   "metadata": {},
   "outputs": [
    {
     "name": "stdout",
     "output_type": "stream",
     "text": [
      "<class 'pandas.core.frame.DataFrame'>\n",
      "Int64Index: 1500 entries, 0 to 1499\n",
      "Data columns (total 25 columns):\n",
      " #   Column              Non-Null Count  Dtype         \n",
      "---  ------              --------------  -----         \n",
      " 0   Date                1000 non-null   datetime64[ns]\n",
      " 1   Store ID            1000 non-null   object        \n",
      " 2   Product ID          1000 non-null   object        \n",
      " 3   Category            1000 non-null   object        \n",
      " 4   Region              1000 non-null   object        \n",
      " 5   Inventory Level     1000 non-null   float64       \n",
      " 6   Units_Sold          1000 non-null   float64       \n",
      " 7   Units_Ordered       1000 non-null   float64       \n",
      " 8   Demand_Forecast     1000 non-null   float64       \n",
      " 9   Price               1000 non-null   float64       \n",
      " 10  Discount            1000 non-null   float64       \n",
      " 11  Weather_Condition   1000 non-null   object        \n",
      " 12  Holiday_Promotion   1000 non-null   float64       \n",
      " 13  Competitor_Pricing  1000 non-null   float64       \n",
      " 14  Seasonality         1000 non-null   object        \n",
      " 15  day                 1000 non-null   float64       \n",
      " 16  month               1000 non-null   float64       \n",
      " 17  year                1000 non-null   float64       \n",
      " 18  weekday             1000 non-null   float64       \n",
      " 19  is_weekend          1500 non-null   int32         \n",
      " 20  Units_Sold_capped   1000 non-null   float64       \n",
      " 21  Total_Revenue       1000 non-null   float64       \n",
      " 22  Effective_Price     1000 non-null   float64       \n",
      " 23  Units_Sold_Lag1     1500 non-null   float64       \n",
      " 24  Units_Sold_Lag7     1500 non-null   float64       \n",
      "dtypes: datetime64[ns](1), float64(17), int32(1), object(6)\n",
      "memory usage: 298.8+ KB\n"
     ]
    }
   ],
   "source": [
    "df.info()"
   ]
  },
  {
   "cell_type": "code",
   "execution_count": 55,
   "id": "96cf252d-34a3-4f2e-b206-68534fc39ab2",
   "metadata": {},
   "outputs": [
    {
     "data": {
      "text/html": [
       "<div>\n",
       "<style scoped>\n",
       "    .dataframe tbody tr th:only-of-type {\n",
       "        vertical-align: middle;\n",
       "    }\n",
       "\n",
       "    .dataframe tbody tr th {\n",
       "        vertical-align: top;\n",
       "    }\n",
       "\n",
       "    .dataframe thead th {\n",
       "        text-align: right;\n",
       "    }\n",
       "</style>\n",
       "<table border=\"1\" class=\"dataframe\">\n",
       "  <thead>\n",
       "    <tr style=\"text-align: right;\">\n",
       "      <th></th>\n",
       "      <th>Store ID</th>\n",
       "      <th>Product ID</th>\n",
       "      <th>Category</th>\n",
       "      <th>Region</th>\n",
       "      <th>Inventory Level</th>\n",
       "      <th>Units_Sold</th>\n",
       "      <th>Units_Ordered</th>\n",
       "      <th>Demand_Forecast</th>\n",
       "      <th>Price</th>\n",
       "      <th>Discount</th>\n",
       "      <th>...</th>\n",
       "      <th>day</th>\n",
       "      <th>month</th>\n",
       "      <th>year</th>\n",
       "      <th>weekday</th>\n",
       "      <th>is_weekend</th>\n",
       "      <th>Units_Sold_capped</th>\n",
       "      <th>Total_Revenue</th>\n",
       "      <th>Effective_Price</th>\n",
       "      <th>Units_Sold_Lag1</th>\n",
       "      <th>Units_Sold_Lag7</th>\n",
       "    </tr>\n",
       "  </thead>\n",
       "  <tbody>\n",
       "    <tr>\n",
       "      <th>0</th>\n",
       "      <td>S001</td>\n",
       "      <td>P0001</td>\n",
       "      <td>Groceries</td>\n",
       "      <td>North</td>\n",
       "      <td>231.0</td>\n",
       "      <td>127.0</td>\n",
       "      <td>55.0</td>\n",
       "      <td>135.47</td>\n",
       "      <td>33.50</td>\n",
       "      <td>20.0</td>\n",
       "      <td>...</td>\n",
       "      <td>1.0</td>\n",
       "      <td>1.0</td>\n",
       "      <td>2022.0</td>\n",
       "      <td>5.0</td>\n",
       "      <td>1</td>\n",
       "      <td>127.0</td>\n",
       "      <td>4254.50</td>\n",
       "      <td>13.50</td>\n",
       "      <td>0.0</td>\n",
       "      <td>0.0</td>\n",
       "    </tr>\n",
       "    <tr>\n",
       "      <th>100</th>\n",
       "      <td>S001</td>\n",
       "      <td>P0001</td>\n",
       "      <td>Groceries</td>\n",
       "      <td>West</td>\n",
       "      <td>116.0</td>\n",
       "      <td>81.0</td>\n",
       "      <td>104.0</td>\n",
       "      <td>92.94</td>\n",
       "      <td>27.95</td>\n",
       "      <td>10.0</td>\n",
       "      <td>...</td>\n",
       "      <td>1.0</td>\n",
       "      <td>2.0</td>\n",
       "      <td>2022.0</td>\n",
       "      <td>1.0</td>\n",
       "      <td>0</td>\n",
       "      <td>81.0</td>\n",
       "      <td>2263.95</td>\n",
       "      <td>17.95</td>\n",
       "      <td>127.0</td>\n",
       "      <td>0.0</td>\n",
       "    </tr>\n",
       "    <tr>\n",
       "      <th>200</th>\n",
       "      <td>S001</td>\n",
       "      <td>P0001</td>\n",
       "      <td>Electronics</td>\n",
       "      <td>West</td>\n",
       "      <td>154.0</td>\n",
       "      <td>5.0</td>\n",
       "      <td>189.0</td>\n",
       "      <td>5.36</td>\n",
       "      <td>62.70</td>\n",
       "      <td>20.0</td>\n",
       "      <td>...</td>\n",
       "      <td>1.0</td>\n",
       "      <td>3.0</td>\n",
       "      <td>2022.0</td>\n",
       "      <td>1.0</td>\n",
       "      <td>0</td>\n",
       "      <td>5.0</td>\n",
       "      <td>313.50</td>\n",
       "      <td>42.70</td>\n",
       "      <td>81.0</td>\n",
       "      <td>0.0</td>\n",
       "    </tr>\n",
       "    <tr>\n",
       "      <th>300</th>\n",
       "      <td>S001</td>\n",
       "      <td>P0001</td>\n",
       "      <td>Groceries</td>\n",
       "      <td>South</td>\n",
       "      <td>85.0</td>\n",
       "      <td>58.0</td>\n",
       "      <td>193.0</td>\n",
       "      <td>52.87</td>\n",
       "      <td>77.88</td>\n",
       "      <td>15.0</td>\n",
       "      <td>...</td>\n",
       "      <td>1.0</td>\n",
       "      <td>4.0</td>\n",
       "      <td>2022.0</td>\n",
       "      <td>4.0</td>\n",
       "      <td>0</td>\n",
       "      <td>58.0</td>\n",
       "      <td>4517.04</td>\n",
       "      <td>62.88</td>\n",
       "      <td>5.0</td>\n",
       "      <td>0.0</td>\n",
       "    </tr>\n",
       "    <tr>\n",
       "      <th>400</th>\n",
       "      <td>S001</td>\n",
       "      <td>P0001</td>\n",
       "      <td>Groceries</td>\n",
       "      <td>South</td>\n",
       "      <td>238.0</td>\n",
       "      <td>147.0</td>\n",
       "      <td>37.0</td>\n",
       "      <td>150.27</td>\n",
       "      <td>28.46</td>\n",
       "      <td>20.0</td>\n",
       "      <td>...</td>\n",
       "      <td>1.0</td>\n",
       "      <td>5.0</td>\n",
       "      <td>2022.0</td>\n",
       "      <td>6.0</td>\n",
       "      <td>1</td>\n",
       "      <td>147.0</td>\n",
       "      <td>4183.62</td>\n",
       "      <td>8.46</td>\n",
       "      <td>58.0</td>\n",
       "      <td>0.0</td>\n",
       "    </tr>\n",
       "  </tbody>\n",
       "</table>\n",
       "<p>5 rows × 24 columns</p>\n",
       "</div>"
      ],
      "text/plain": [
       "    Store ID Product ID     Category Region  Inventory Level  Units_Sold  \\\n",
       "0       S001      P0001    Groceries  North            231.0       127.0   \n",
       "100     S001      P0001    Groceries   West            116.0        81.0   \n",
       "200     S001      P0001  Electronics   West            154.0         5.0   \n",
       "300     S001      P0001    Groceries  South             85.0        58.0   \n",
       "400     S001      P0001    Groceries  South            238.0       147.0   \n",
       "\n",
       "     Units_Ordered  Demand_Forecast  Price  Discount  ...  day  month    year  \\\n",
       "0             55.0           135.47  33.50      20.0  ...  1.0    1.0  2022.0   \n",
       "100          104.0            92.94  27.95      10.0  ...  1.0    2.0  2022.0   \n",
       "200          189.0             5.36  62.70      20.0  ...  1.0    3.0  2022.0   \n",
       "300          193.0            52.87  77.88      15.0  ...  1.0    4.0  2022.0   \n",
       "400           37.0           150.27  28.46      20.0  ...  1.0    5.0  2022.0   \n",
       "\n",
       "    weekday  is_weekend  Units_Sold_capped  Total_Revenue  Effective_Price  \\\n",
       "0       5.0           1              127.0        4254.50            13.50   \n",
       "100     1.0           0               81.0        2263.95            17.95   \n",
       "200     1.0           0                5.0         313.50            42.70   \n",
       "300     4.0           0               58.0        4517.04            62.88   \n",
       "400     6.0           1              147.0        4183.62             8.46   \n",
       "\n",
       "     Units_Sold_Lag1  Units_Sold_Lag7  \n",
       "0                0.0              0.0  \n",
       "100            127.0              0.0  \n",
       "200             81.0              0.0  \n",
       "300              5.0              0.0  \n",
       "400             58.0              0.0  \n",
       "\n",
       "[5 rows x 24 columns]"
      ]
     },
     "execution_count": 55,
     "metadata": {},
     "output_type": "execute_result"
    }
   ],
   "source": [
    "df_final=df.drop('Date',axis=1)\n",
    "\n",
    "df_final.head()"
   ]
  },
  {
   "cell_type": "code",
   "execution_count": 59,
   "id": "5012c975-7639-4664-9869-18c0333db0f9",
   "metadata": {},
   "outputs": [
    {
     "data": {
      "text/plain": [
       "Store ID              500\n",
       "Product ID            500\n",
       "Category              500\n",
       "Region                500\n",
       "Inventory Level       500\n",
       "Units_Sold            500\n",
       "Units_Ordered         500\n",
       "Demand_Forecast       500\n",
       "Price                 500\n",
       "Discount              500\n",
       "Weather_Condition     500\n",
       "Holiday_Promotion     500\n",
       "Competitor_Pricing    500\n",
       "Seasonality           500\n",
       "day                   500\n",
       "month                 500\n",
       "year                  500\n",
       "weekday               500\n",
       "is_weekend              0\n",
       "Units_Sold_capped     500\n",
       "Total_Revenue         500\n",
       "Effective_Price       500\n",
       "Units_Sold_Lag1         0\n",
       "Units_Sold_Lag7         0\n",
       "dtype: int64"
      ]
     },
     "execution_count": 59,
     "metadata": {},
     "output_type": "execute_result"
    }
   ],
   "source": [
    "df_final.isnull().sum()"
   ]
  },
  {
   "cell_type": "code",
   "execution_count": 58,
   "id": "6293cd46-b82b-48c3-9a51-2d7bc4ae1329",
   "metadata": {},
   "outputs": [],
   "source": [
    "df_final.to_csv(\"retail_data.csv\", index=False)\n"
   ]
  },
  {
   "cell_type": "code",
   "execution_count": 63,
   "id": "d8494f34-2612-49c2-8b15-7922ed99b5e9",
   "metadata": {},
   "outputs": [
    {
     "data": {
      "text/html": [
       "<div>\n",
       "<style scoped>\n",
       "    .dataframe tbody tr th:only-of-type {\n",
       "        vertical-align: middle;\n",
       "    }\n",
       "\n",
       "    .dataframe tbody tr th {\n",
       "        vertical-align: top;\n",
       "    }\n",
       "\n",
       "    .dataframe thead th {\n",
       "        text-align: right;\n",
       "    }\n",
       "</style>\n",
       "<table border=\"1\" class=\"dataframe\">\n",
       "  <thead>\n",
       "    <tr style=\"text-align: right;\">\n",
       "      <th></th>\n",
       "      <th>Store_ID</th>\n",
       "      <th>Product_ID</th>\n",
       "      <th>Category</th>\n",
       "      <th>Region</th>\n",
       "      <th>Inventory_Level</th>\n",
       "      <th>Units_Sold</th>\n",
       "      <th>Units_Ordered</th>\n",
       "      <th>Demand_Forecast</th>\n",
       "      <th>Price</th>\n",
       "      <th>Discount</th>\n",
       "      <th>...</th>\n",
       "      <th>day</th>\n",
       "      <th>month</th>\n",
       "      <th>year</th>\n",
       "      <th>weekday</th>\n",
       "      <th>is_weekend</th>\n",
       "      <th>Units_Sold_capped</th>\n",
       "      <th>Total_Revenue</th>\n",
       "      <th>Effective_Price</th>\n",
       "      <th>Units_Sold_Lag1</th>\n",
       "      <th>Units_Sold_Lag7</th>\n",
       "    </tr>\n",
       "  </thead>\n",
       "  <tbody>\n",
       "    <tr>\n",
       "      <th>0</th>\n",
       "      <td>S001</td>\n",
       "      <td>P0001</td>\n",
       "      <td>Groceries</td>\n",
       "      <td>North</td>\n",
       "      <td>231.0</td>\n",
       "      <td>127.0</td>\n",
       "      <td>55.0</td>\n",
       "      <td>135.47</td>\n",
       "      <td>33.50</td>\n",
       "      <td>20.0</td>\n",
       "      <td>...</td>\n",
       "      <td>1.0</td>\n",
       "      <td>1.0</td>\n",
       "      <td>2022.0</td>\n",
       "      <td>5.0</td>\n",
       "      <td>1</td>\n",
       "      <td>127.0</td>\n",
       "      <td>4254.50</td>\n",
       "      <td>13.50</td>\n",
       "      <td>0</td>\n",
       "      <td>0</td>\n",
       "    </tr>\n",
       "    <tr>\n",
       "      <th>1</th>\n",
       "      <td>S001</td>\n",
       "      <td>P0001</td>\n",
       "      <td>Groceries</td>\n",
       "      <td>West</td>\n",
       "      <td>116.0</td>\n",
       "      <td>81.0</td>\n",
       "      <td>104.0</td>\n",
       "      <td>92.94</td>\n",
       "      <td>27.95</td>\n",
       "      <td>10.0</td>\n",
       "      <td>...</td>\n",
       "      <td>1.0</td>\n",
       "      <td>2.0</td>\n",
       "      <td>2022.0</td>\n",
       "      <td>1.0</td>\n",
       "      <td>0</td>\n",
       "      <td>81.0</td>\n",
       "      <td>2263.95</td>\n",
       "      <td>17.95</td>\n",
       "      <td>127</td>\n",
       "      <td>0</td>\n",
       "    </tr>\n",
       "  </tbody>\n",
       "</table>\n",
       "<p>2 rows × 24 columns</p>\n",
       "</div>"
      ],
      "text/plain": [
       "  Store_ID Product_ID   Category Region  Inventory_Level  Units_Sold  \\\n",
       "0     S001      P0001  Groceries  North            231.0       127.0   \n",
       "1     S001      P0001  Groceries   West            116.0        81.0   \n",
       "\n",
       "   Units_Ordered  Demand_Forecast  Price  Discount  ...  day  month    year  \\\n",
       "0           55.0           135.47  33.50      20.0  ...  1.0    1.0  2022.0   \n",
       "1          104.0            92.94  27.95      10.0  ...  1.0    2.0  2022.0   \n",
       "\n",
       "  weekday  is_weekend  Units_Sold_capped  Total_Revenue  Effective_Price  \\\n",
       "0     5.0           1              127.0        4254.50            13.50   \n",
       "1     1.0           0               81.0        2263.95            17.95   \n",
       "\n",
       "   Units_Sold_Lag1  Units_Sold_Lag7  \n",
       "0                0                0  \n",
       "1              127                0  \n",
       "\n",
       "[2 rows x 24 columns]"
      ]
     },
     "execution_count": 63,
     "metadata": {},
     "output_type": "execute_result"
    }
   ],
   "source": [
    "retail_data_final=pd.read_csv(\"retail_data.csv\")\n",
    "retail_data_final.head(2)"
   ]
  },
  {
   "cell_type": "code",
   "execution_count": 74,
   "id": "1b1663ad-ea4b-4da4-9106-467b5156fc86",
   "metadata": {},
   "outputs": [
    {
     "data": {
      "text/plain": [
       "0       0.0\n",
       "1       0.0\n",
       "2       0.0\n",
       "3       1.0\n",
       "4       1.0\n",
       "       ... \n",
       "1495    NaN\n",
       "1496    NaN\n",
       "1497    NaN\n",
       "1498    NaN\n",
       "1499    NaN\n",
       "Name: Holiday_Promotion, Length: 1500, dtype: float64"
      ]
     },
     "execution_count": 74,
     "metadata": {},
     "output_type": "execute_result"
    }
   ],
   "source": [
    "retail_data_final['Holiday_Promotion']"
   ]
  },
  {
   "cell_type": "code",
   "execution_count": 66,
   "id": "de6db92e-aa1b-4512-ac1c-0e37a894fe92",
   "metadata": {},
   "outputs": [],
   "source": [
    "df_retail=retail_data_final.dropna()"
   ]
  },
  {
   "cell_type": "code",
   "execution_count": 71,
   "id": "1be6b50f-dddf-427a-a6fd-2cb25746167f",
   "metadata": {},
   "outputs": [
    {
     "name": "stdout",
     "output_type": "stream",
     "text": [
      "<class 'pandas.core.frame.DataFrame'>\n",
      "Int64Index: 1000 entries, 0 to 999\n",
      "Data columns (total 24 columns):\n",
      " #   Column              Non-Null Count  Dtype  \n",
      "---  ------              --------------  -----  \n",
      " 0   Store_ID            1000 non-null   object \n",
      " 1   Product_ID          1000 non-null   object \n",
      " 2   Category            1000 non-null   object \n",
      " 3   Region              1000 non-null   object \n",
      " 4   Inventory_Level     1000 non-null   float64\n",
      " 5   Units_Sold          1000 non-null   float64\n",
      " 6   Units_Ordered       1000 non-null   float64\n",
      " 7   Demand_Forecast     1000 non-null   float64\n",
      " 8   Price               1000 non-null   float64\n",
      " 9   Discount            1000 non-null   float64\n",
      " 10  Weather_Condition   1000 non-null   object \n",
      " 11  Holiday_Promotion   1000 non-null   float64\n",
      " 12  Competitor_Pricing  1000 non-null   float64\n",
      " 13  Seasonality         1000 non-null   object \n",
      " 14  day                 1000 non-null   float64\n",
      " 15  month               1000 non-null   float64\n",
      " 16  year                1000 non-null   float64\n",
      " 17  weekday             1000 non-null   float64\n",
      " 18  is_weekend          1000 non-null   int64  \n",
      " 19  Units_Sold_capped   1000 non-null   float64\n",
      " 20  Total_Revenue       1000 non-null   float64\n",
      " 21  Effective_Price     1000 non-null   float64\n",
      " 22  Units_Sold_Lag1     1000 non-null   int64  \n",
      " 23  Units_Sold_Lag7     1000 non-null   int64  \n",
      "dtypes: float64(15), int64(3), object(6)\n",
      "memory usage: 195.3+ KB\n"
     ]
    }
   ],
   "source": [
    "df_retail.info()"
   ]
  },
  {
   "cell_type": "code",
   "execution_count": 69,
   "id": "a57060b5-2854-4775-9c9f-d6b74064c2c6",
   "metadata": {},
   "outputs": [],
   "source": [
    "df_retail.to_csv(\"df_retail_data.csv\",index=False)"
   ]
  },
  {
   "cell_type": "code",
   "execution_count": null,
   "id": "a0935550-3d6a-4a16-8d04-1f7a7e90062c",
   "metadata": {},
   "outputs": [],
   "source": []
  }
 ],
 "metadata": {
  "kernelspec": {
   "display_name": "Python 3 (ipykernel)",
   "language": "python",
   "name": "python3"
  },
  "language_info": {
   "codemirror_mode": {
    "name": "ipython",
    "version": 3
   },
   "file_extension": ".py",
   "mimetype": "text/x-python",
   "name": "python",
   "nbconvert_exporter": "python",
   "pygments_lexer": "ipython3",
   "version": "3.9.12"
  }
 },
 "nbformat": 4,
 "nbformat_minor": 5
}
